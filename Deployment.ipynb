{
 "cells": [
  {
   "cell_type": "code",
   "execution_count": 1,
   "id": "31414132-def6-41cd-9e82-1f4ff1f4e8e1",
   "metadata": {},
   "outputs": [],
   "source": [
    "# Importing library save our best model\n",
    "\n",
    "import pickle"
   ]
  },
  {
   "cell_type": "code",
   "execution_count": 2,
   "id": "27486778-3067-42b9-b7f1-c456e63c6efd",
   "metadata": {},
   "outputs": [],
   "source": [
    "# We need to check whether our model has loaded successfully\n",
    "\n",
    "Loaded_Model = pickle.load(open(\"Best_Model_CKD.sav\", \"rb\"))"
   ]
  },
  {
   "cell_type": "code",
   "execution_count": 3,
   "id": "cd2e7aa6-80e7-452a-a840-a2169d88bdf2",
   "metadata": {},
   "outputs": [],
   "source": [
    "Future_Pred = Loaded_Model.predict([[28, 48, 3.0, 2.0, 148.22, 25, 23, 255, 422, 632, 22, 524, 61, 1, 0, 1, 6, 1, 0, 1, 0, 1, 1, 0, 0, 0, 1]])"
   ]
  },
  {
   "cell_type": "code",
   "execution_count": 4,
   "id": "5fba3279-2162-412a-b4d1-64bd9c2f961c",
   "metadata": {},
   "outputs": [
    {
     "data": {
      "text/plain": [
       "array([1])"
      ]
     },
     "execution_count": 4,
     "metadata": {},
     "output_type": "execute_result"
    }
   ],
   "source": [
    "Future_Pred"
   ]
  },
  {
   "cell_type": "code",
   "execution_count": null,
   "id": "dd8ff5bc-f66c-4361-ba70-a7d110c73ed4",
   "metadata": {},
   "outputs": [],
   "source": []
  }
 ],
 "metadata": {
  "kernelspec": {
   "display_name": "Python 3 (ipykernel)",
   "language": "python",
   "name": "python3"
  },
  "language_info": {
   "codemirror_mode": {
    "name": "ipython",
    "version": 3
   },
   "file_extension": ".py",
   "mimetype": "text/x-python",
   "name": "python",
   "nbconvert_exporter": "python",
   "pygments_lexer": "ipython3",
   "version": "3.12.7"
  }
 },
 "nbformat": 4,
 "nbformat_minor": 5
}
